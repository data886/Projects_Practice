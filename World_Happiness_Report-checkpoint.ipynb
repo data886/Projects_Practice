{
 "cells": [
  {
   "cell_type": "markdown",
   "id": "bb69b7b2",
   "metadata": {},
   "source": [
    "## 1. Load and Explore Data"
   ]
  },
  {
   "cell_type": "code",
   "execution_count": null,
   "id": "1237401f",
   "metadata": {},
   "outputs": [],
   "source": [
    "# Load the Pandas libraries\n",
    "import pandas as pd\n",
    "import numpy as np\n",
    "from sklearn.decomposition import PCA\n",
    "from sklearn.preprocessing import StandardScaler"
   ]
  },
  {
   "cell_type": "code",
   "execution_count": null,
   "id": "fef0be1b",
   "metadata": {},
   "outputs": [],
   "source": [
    "# Load visualization libraries\n",
    "import seaborn as sns\n",
    "import matplotlib.pyplot as plt\n",
    "from mpl_toolkits.mplot3d import Axes3D"
   ]
  },
  {
   "cell_type": "code",
   "execution_count": null,
   "id": "ea8bde29",
   "metadata": {},
   "outputs": [],
   "source": [
    "# Load clustering libraries\n",
    "from sklearn.cluster import KMeans\n",
    "from sklearn.cluster import AgglomerativeClustering\n",
    "from sklearn.cluster import DBSCAN\n",
    "from scipy.cluster.hierarchy import dendrogram, linkage"
   ]
  },
  {
   "cell_type": "code",
   "execution_count": null,
   "id": "1b953d6a",
   "metadata": {},
   "outputs": [],
   "source": [
    "# Read World Happiness Report 2021 dataset\n",
    "raw_data = pd.read_csv(r'C:\\Users\\hp\\Desktop\\happiness_score_dataset.csv')\n",
    "print(raw_data.shape)"
   ]
  },
  {
   "cell_type": "code",
   "execution_count": null,
   "id": "1f979c8e",
   "metadata": {},
   "outputs": [],
   "source": [
    "raw_data.head()"
   ]
  },
  {
   "cell_type": "code",
   "execution_count": null,
   "id": "17e53050",
   "metadata": {},
   "outputs": [],
   "source": [
    "# Show first 5 rows of header dataframe\n",
    "raw_data.dtypes"
   ]
  },
  {
   "cell_type": "code",
   "execution_count": null,
   "id": "2a36f828",
   "metadata": {},
   "outputs": [],
   "source": [
    "## 2. Correlation Analysis\n",
    "# Split data into header and skills dataframes\n",
    "header = pd.DataFrame()\n",
    "X_data = pd.DataFrame()\n",
    "\n",
    "for col in raw_data.columns:\n",
    "    if col in [\"Country name\", \"Regional indicator\"]:\n",
    "        header[col] = raw_data[col]\n",
    "    else:\n",
    "        X_data[col] = raw_data[col]"
   ]
  },
  {
   "cell_type": "code",
   "execution_count": null,
   "id": "94dc741d",
   "metadata": {},
   "outputs": [],
   "source": [
    "# Standardizing of the data\n",
    "X_std = StandardScaler().fit_transform(X_data)\n",
    "\n",
    "# Show standardized data\n",
    "X_std_df = pd.DataFrame(data=X_std, columns=X_data.columns)\n",
    "X_std_df.head()"
   ]
  },
  {
   "cell_type": "code",
   "execution_count": null,
   "id": "a1db35f1",
   "metadata": {},
   "outputs": [],
   "source": [
    "# Calculate correlations between numerical columns\n",
    "corr_data = X_std_df.corr()"
   ]
  },
  {
   "cell_type": "code",
   "execution_count": null,
   "id": "68785ce5",
   "metadata": {},
   "outputs": [],
   "source": [
    "# Generate a mask for the upper triangle\n",
    "mask = np.zeros_like(corr_data, dtype=np.bool)\n",
    "mask[np.triu_indices_from(mask)] = True\n",
    "\n",
    "# Set up the matplotlib figure\n",
    "fig, ax = plt.subplots(figsize=(14, 14))\n",
    "\n",
    "# Generate a custom diverging colormap\n",
    "cmap = sns.diverging_palette(10, 240, n=9)\n",
    "\n",
    "# Draw the heatmap with the mask and correct aspect ratio\n",
    "sns.heatmap(corr_data, mask=mask, cmap=cmap, vmin=-1, vmax=1, center=0, square=True, linewidths=.5, cbar_kws={\"shrink\": .5})\n",
    "ax.set_xticklabels(ax.get_xticklabels(), rotation=45, horizontalalignment='right');\n",
    "\n",
    "# Add title\n",
    "ax.set_title(\"Correlation Triangle\", fontsize=16)\n",
    "plt.show()"
   ]
  },
  {
   "cell_type": "code",
   "execution_count": null,
   "id": "3bb18bad",
   "metadata": {},
   "outputs": [],
   "source": [
    "## 3. Dimensionality Reduction\n",
    "# Principal Component Analysis\n",
    "pca = PCA(n_components=5)\n",
    "pca_data = pca.fit_transform(X_std_df)"
   ]
  },
  {
   "cell_type": "code",
   "execution_count": null,
   "id": "c0722436",
   "metadata": {},
   "outputs": [],
   "source": [
    "#Create and show principal components DataFrame\n",
    "pca_df = pd.DataFrame(data=pca_data, columns=[\"PC1\", \"PC2\", \"PC3\", \"PC4\", \"PC5\"])\n",
    "pca_df = pd.concat([pca_df, header[[\"Country name\"]]], axis=1)\n",
    "pca_df = pca_df[pca_df[\"PC1\"].notnull()]\n",
    "pca_df"
   ]
  },
  {
   "cell_type": "code",
   "execution_count": null,
   "id": "7e754877",
   "metadata": {},
   "outputs": [],
   "source": [
    "# Create 3D scatter plot\n",
    "fig = plt.figure(figsize=(16, 16))\n",
    "ax = fig.add_subplot(111, projection=\"3d\")\n",
    "\n",
    "# Get (x, y, z) axis values\n",
    "xx = pca_df[\"PC1\"].values\n",
    "yy = pca_df[\"PC2\"].values\n",
    "zz = pca_df[\"PC3\"].values\n",
    "\n",
    "# Plot values\n",
    "ax.scatter(xx, yy, zz, c=\"#1f77b4\", marker=\"o\", s = 75)\n",
    "\n",
    "# Add annotations one by one with a loop\n",
    "for ix in range(0, len(X_std_df)):\n",
    "    ax.text(float(xx[ix]), float(yy[ix]), float(zz[ix]), pca_df['Country name'][ix], \n",
    "            horizontalalignment=\"left\", size=\"medium\", color=\"black\", weight=\"normal\")\n",
    "\n",
    "# Plot setup\n",
    "ax.set_xlabel(\"PC 1\", fontsize = 12)\n",
    "ax.set_ylabel(\"PC 2\", fontsize = 12)\n",
    "ax.set_zlabel(\"PC 3\", fontsize = 12)\n",
    "ax.set_title(\"PCA 3D Data\", fontsize=16)\n",
    "ax.grid()"
   ]
  },
  {
   "cell_type": "code",
   "execution_count": null,
   "id": "1811b09c",
   "metadata": {},
   "outputs": [],
   "source": [
    "### 3.2. PCs Dependencies\n",
    "# Show correlation between components\n",
    "fig, ax = plt.subplots(figsize = (8, 8))\n",
    "sns.heatmap(pca_df.corr(), square=True, annot=True)\n",
    "ax.set_title(\"Correlation between Components\", fontsize=16)\n",
    "plt.show()"
   ]
  },
  {
   "cell_type": "code",
   "execution_count": null,
   "id": "fbb3768a",
   "metadata": {},
   "outputs": [],
   "source": [
    "# Create a matshow plot of the Principal Components dependencies\n",
    "fig = plt.figure(figsize=(16, 2))\n",
    "plt.matshow(pca.components_, cmap=\"viridis\", fignum=fig.number, aspect=\"auto\")\n",
    "plt.yticks([0, 1, 2, 3, 4], [\"PC1\", \"PC2\", \"PC3\", \"PC4\", \"PC5\"], fontsize=10)\n",
    "plt.colorbar()\n",
    "plt.xticks(range(len(X_std_df.columns)), X_std_df.columns, rotation=65, ha=\"left\")\n",
    "plt.show()"
   ]
  },
  {
   "cell_type": "code",
   "execution_count": null,
   "id": "97adcc07",
   "metadata": {},
   "outputs": [],
   "source": [
    "# The explained variance tells us how much information (variance) can be attributed to each of the principal components\n",
    "list(pca.explained_variance_ratio_)"
   ]
  },
  {
   "cell_type": "code",
   "execution_count": null,
   "id": "e0827acf",
   "metadata": {},
   "outputs": [],
   "source": [
    "# Create horizontal bar chart data\n",
    "bars = (\"PC1\", \"PC2\", \"PC3\", \"PC4\", \"PC5\")\n",
    "y_pos = np.arange(len(bars))\n",
    "values = pca.explained_variance_ratio_ * 100\n",
    "cum = np.cumsum(values)"
   ]
  },
  {
   "cell_type": "code",
   "execution_count": null,
   "id": "49fdaba5",
   "metadata": {},
   "outputs": [],
   "source": [
    "# Set up the matplotlib figure\n",
    "fig, ax2 = plt.subplots(figsize=(12, 10))\n",
    "\n",
    "plt.bar(y_pos, values, align=\"center\", alpha=0.7)\n",
    "plt.xticks(y_pos, bars)\n",
    "plt.plot(y_pos, cum, color=\"orange\", linewidth=2, marker=\"o\")\n",
    "plt.title(\"Variance Ratio By Component\", fontsize=16)\n",
    "\n",
    "# Add bar labels\n",
    "for i, v in enumerate(cum):\n",
    "    ax2.text(i - .15, v + 1, (str(round(v, 1))+\"%\"), color = \"black\", fontweight = \"normal\", fontsize = 11)\n",
    "\n",
    "# Plot setup\n",
    "plt.xlabel(\"Components\", fontsize=12)\n",
    "plt.ylabel(\"Explained variance in percent\", fontsize=12)\n",
    "plt.legend((\"Cum\", \"Var\"), loc=\"best\")\n",
    "plt.show()"
   ]
  },
  {
   "cell_type": "code",
   "execution_count": null,
   "id": "0ecb10c8",
   "metadata": {},
   "outputs": [],
   "source": [
    "## 4. Clustering: apply 3 different approaches\n",
    "# Getting the values and plotting it\n",
    "k = 3\n",
    "x = pca_df['PC1'].values\n",
    "y = pca_df['PC2'].values\n",
    "train_data = np.array(list(zip(x, y)))\n",
    "#train_data = pca_data\n",
    "\n",
    "n_data = len(train_data)"
   ]
  },
  {
   "cell_type": "code",
   "execution_count": null,
   "id": "6d3e3e5a",
   "metadata": {},
   "outputs": [],
   "source": [
    "def plot_clusters(method, data, labels, centroids=None):\n",
    "    fig, ax = plt.subplots(figsize=(10, 10))\n",
    "    \n",
    "    # Plotting vars\n",
    "    colors = [\"#1f77b4\", \"#d62728\", \"#2ca02c\", \"#ff7f0e\", \"#9467bd\", \"#8c564b\", \"#e377c2\", \"#7f7f7f\", \"#bcbd22\", \"#17becf\"]\n",
    "\n",
    "    # Create scatter plot\n",
    "    for i in range(k):\n",
    "        points = np.array([data[j] for j in range(n_data) if labels[j] == i])\n",
    "        sns.scatterplot(ax=ax, x=points[:, 0], y=points[:, 1], size=5, color=colors[i])\n",
    "    \n",
    "    if not centroids is None:\n",
    "        plt.scatter(centroids[:, 0], centroids[:, 1], color=\"black\", marker=\"D\")\n",
    "\n",
    "    # Plot setup\n",
    "    ax.set_xlabel(\"PC 1\", fontsize=12)\n",
    "    ax.set_ylabel(\"PC 2\", fontsize=12)\n",
    "    ax.set_title(\"Clustering by \" + method, fontsize=16)\n",
    "    ax.legend(\"\")\n",
    "    ax.grid()"
   ]
  },
  {
   "cell_type": "code",
   "execution_count": null,
   "id": "b72306dd",
   "metadata": {},
   "outputs": [],
   "source": [
    "### 4.1. By partitioning: K-means\n",
    "# Apply k-Means\n",
    "kmeans = KMeans(n_clusters=k, algorithm=\"elkan\", random_state=0)\n",
    "kmeans = kmeans.fit(train_data)\n",
    "\n",
    "# Centroid values\n",
    "centroids = kmeans.cluster_centers_\n",
    "\n",
    "# Getting the cluster labels\n",
    "clusters = kmeans.predict(train_data)\n",
    "clusters"
   ]
  },
  {
   "cell_type": "code",
   "execution_count": null,
   "id": "ae712a3c",
   "metadata": {},
   "outputs": [],
   "source": [
    "plot_clusters(\"K-Means\", train_data, clusters)"
   ]
  },
  {
   "cell_type": "code",
   "execution_count": null,
   "id": "f4a53c57",
   "metadata": {},
   "outputs": [],
   "source": [
    "### 4.2. By Hierarchy: Hierarchical Agglomerative Clustering\n",
    "linked = linkage(train_data, 'single')\n",
    "labelList = range(1, n_data+1)"
   ]
  },
  {
   "cell_type": "code",
   "execution_count": null,
   "id": "7e7155be",
   "metadata": {},
   "outputs": [],
   "source": [
    "plt.figure(figsize=(16, 8))\n",
    "dendrogram(linked, orientation='top', labels=labelList, distance_sort='descending', show_leaf_counts=True)\n",
    "plt.show()"
   ]
  },
  {
   "cell_type": "code",
   "execution_count": null,
   "id": "4f1cf960",
   "metadata": {},
   "outputs": [],
   "source": [
    "# Apply Hierarchical Agglomerative Clustering\n",
    "hac = AgglomerativeClustering(n_clusters=k, affinity='euclidean', linkage='ward')\n",
    "cluster = hac.fit_predict(pca_data)\n",
    "cluster"
   ]
  },
  {
   "cell_type": "code",
   "execution_count": null,
   "id": "dc93417b",
   "metadata": {},
   "outputs": [],
   "source": [
    "plot_clusters(\"Hierarchy\", train_data, cluster)"
   ]
  },
  {
   "cell_type": "code",
   "execution_count": null,
   "id": "ed2edc53",
   "metadata": {},
   "outputs": [],
   "source": [
    "### 4.3. By density: BSCAN\n",
    "dbscan = DBSCAN(eps=1.2, min_samples=6).fit(pca_data)\n",
    "clusters = dbscan.labels_\n",
    "clusters = abs(clusters)\n",
    "clusters"
   ]
  },
  {
   "cell_type": "code",
   "execution_count": null,
   "id": "ea386db9",
   "metadata": {},
   "outputs": [],
   "source": []
  }
 ],
 "metadata": {
  "kernelspec": {
   "display_name": "Python 3",
   "language": "python",
   "name": "python3"
  },
  "language_info": {
   "codemirror_mode": {
    "name": "ipython",
    "version": 3
   },
   "file_extension": ".py",
   "mimetype": "text/x-python",
   "name": "python",
   "nbconvert_exporter": "python",
   "pygments_lexer": "ipython3",
   "version": "3.8.8"
  }
 },
 "nbformat": 4,
 "nbformat_minor": 5
}
